{
  "nbformat": 4,
  "nbformat_minor": 0,
  "metadata": {
    "colab": {
      "name": "Python_Basics.ipynb",
      "provenance": [],
      "collapsed_sections": [],
      "authorship_tag": "ABX9TyPRp83y6qOoF2HhAnqBQGQx",
      "include_colab_link": true
    },
    "kernelspec": {
      "name": "python3",
      "display_name": "Python 3"
    }
  },
  "cells": [
    {
      "cell_type": "markdown",
      "metadata": {
        "id": "view-in-github",
        "colab_type": "text"
      },
      "source": [
        "<a href=\"https://colab.research.google.com/github/Arathikaruna/arathi/blob/master/Python_Basics.ipynb\" target=\"_parent\"><img src=\"https://colab.research.google.com/assets/colab-badge.svg\" alt=\"Open In Colab\"/></a>"
      ]
    },
    {
      "cell_type": "markdown",
      "metadata": {
        "id": "8hy7qvkFGyEY"
      },
      "source": [
        "# **Variables**"
      ]
    },
    {
      "cell_type": "code",
      "metadata": {
        "colab": {
          "base_uri": "https://localhost:8080/"
        },
        "id": "4qb9XXPjHCo8",
        "outputId": "f56b85b2-ed03-4da3-9b4d-ad7ed71931c0"
      },
      "source": [
        "name = \"Alice\"\r\n",
        "print(name)"
      ],
      "execution_count": null,
      "outputs": [
        {
          "output_type": "stream",
          "text": [
            "Alice\n"
          ],
          "name": "stdout"
        }
      ]
    },
    {
      "cell_type": "code",
      "metadata": {
        "colab": {
          "base_uri": "https://localhost:8080/"
        },
        "id": "3ECFWXJYHWBf",
        "outputId": "6f8936c5-51a0-4c7a-a9bd-72a47285e0ef"
      },
      "source": [
        "name = input(\"Enter your name: \")\r\n",
        "print(\"Welcome \",name)"
      ],
      "execution_count": null,
      "outputs": [
        {
          "output_type": "stream",
          "text": [
            "Enter your name: Arathi\n",
            "Welcome  Arathi\n"
          ],
          "name": "stdout"
        }
      ]
    },
    {
      "cell_type": "markdown",
      "metadata": {
        "id": "jkcq2_FuHryd"
      },
      "source": [
        "\r\n",
        "\r\n",
        "*   In Python, there is no need of declaring variables as done in other programming languages like c, c++, etc.\r\n",
        "          For example,in other languages, int c = 7 and in Python, c = 7.\r\n",
        "*   Variable name **cannot** start with a number. \r\n",
        "          For example, 2str = 40 is invalid.\r\n",
        "\r\n",
        "\r\n",
        "*   Python is **case sensitive**, that is, name = 2 and Name = 4 are two different variables.\r\n",
        "*   List item\r\n",
        "\r\n",
        "\r\n",
        "\r\n"
      ]
    },
    {
      "cell_type": "markdown",
      "metadata": {
        "id": "Upv7wvjALcnJ"
      },
      "source": [
        "# **Data Types and Type Casting**"
      ]
    },
    {
      "cell_type": "markdown",
      "metadata": {
        "id": "0x0Np0SpLs2R"
      },
      "source": [
        "There are different data types in python, such as, integers, string, float, boolean, etc. Type Casting is changing one data type to another data type."
      ]
    },
    {
      "cell_type": "code",
      "metadata": {
        "colab": {
          "base_uri": "https://localhost:8080/"
        },
        "id": "Y5ZtXcKhMYFn",
        "outputId": "4caf2435-b2e3-4e29-f212-1e604731a13f"
      },
      "source": [
        "a = 5\r\n",
        "b = 4.5\r\n",
        "c = \"Alice\"\r\n",
        "d = True\r\n",
        "\r\n",
        "print(type(a))\r\n",
        "print(type(b))\r\n",
        "print(type(c))\r\n",
        "print(type(d))"
      ],
      "execution_count": null,
      "outputs": [
        {
          "output_type": "stream",
          "text": [
            "<class 'int'>\n",
            "<class 'float'>\n",
            "<class 'str'>\n",
            "<class 'bool'>\n"
          ],
          "name": "stdout"
        }
      ]
    },
    {
      "cell_type": "markdown",
      "metadata": {
        "id": "JX1YprPNOUTQ"
      },
      "source": [
        "Type Casting in python(Example)"
      ]
    },
    {
      "cell_type": "code",
      "metadata": {
        "colab": {
          "base_uri": "https://localhost:8080/"
        },
        "id": "9HgjoNCINzY9",
        "outputId": "9d820117-d2fc-496d-fa71-df3c51c4fa68"
      },
      "source": [
        "print(\"Boolean of a = \",bool(a))\r\n",
        "print(\"Float of a = \",float(a))\r\n",
        "print(\"String of a = \",str(a))"
      ],
      "execution_count": null,
      "outputs": [
        {
          "output_type": "stream",
          "text": [
            "Boolean of a =  True\n",
            "Float of a =  5.0\n",
            "String of a =  5\n"
          ],
          "name": "stdout"
        }
      ]
    },
    {
      "cell_type": "markdown",
      "metadata": {
        "id": "jKooYieSP_Jc"
      },
      "source": [
        "# **Arithmetic Operations**"
      ]
    },
    {
      "cell_type": "code",
      "metadata": {
        "colab": {
          "base_uri": "https://localhost:8080/"
        },
        "id": "ShoMdcWdQLyF",
        "outputId": "db796a21-5bac-455e-dc88-be49f6315a91"
      },
      "source": [
        "a = 7.5\r\n",
        "b = 6.5\r\n",
        "print(\"Sum = \",a+b)\r\n",
        "print(\"Difference = \",a-b)\r\n",
        "print(\"Product = \",a*b)\r\n",
        "print(\"Division = \",a/b)\r\n",
        "print(\"Quotient = \",a//b)\r\n",
        "print(\"Remainder = \",a % b)\r\n",
        "print(\"Exponent = \",a**b)"
      ],
      "execution_count": null,
      "outputs": [
        {
          "output_type": "stream",
          "text": [
            "Sum =  14.0\n",
            "Difference =  1.0\n",
            "Product =  48.75\n",
            "Division =  1.1538461538461537\n",
            "Quotient =  1.0\n",
            "Remainder =  1.0\n",
            "Exponent =  487414.2387954908\n"
          ],
          "name": "stdout"
        }
      ]
    },
    {
      "cell_type": "markdown",
      "metadata": {
        "id": "10CQwhPcTXHA"
      },
      "source": [
        "**Operator Precedence Rule**"
      ]
    },
    {
      "cell_type": "markdown",
      "metadata": {
        "id": "R1SPdmi2btMc"
      },
      "source": [
        "The following link provides the operator precedence table in Python:\r\n",
        "(https://docs.python.org/3.7/reference/expressions.html#operator-precedence)"
      ]
    },
    {
      "cell_type": "markdown",
      "metadata": {
        "id": "AZUlSphgbAN5"
      },
      "source": [
        "Example:"
      ]
    },
    {
      "cell_type": "code",
      "metadata": {
        "colab": {
          "base_uri": "https://localhost:8080/"
        },
        "id": "h4nTUw_UTrzC",
        "outputId": "1a946cab-7e46-4d54-8f40-c67e59da9c83"
      },
      "source": [
        "a = 4 + (9**3) - 2**5 % 1\r\n",
        "print(\"a = \",a)"
      ],
      "execution_count": null,
      "outputs": [
        {
          "output_type": "stream",
          "text": [
            "a =  733\n"
          ],
          "name": "stdout"
        }
      ]
    },
    {
      "cell_type": "markdown",
      "metadata": {
        "id": "jqJRIlNPUSWb"
      },
      "source": [
        "**Step 1:** Solve Bracket(highest precedence)"
      ]
    },
    {
      "cell_type": "code",
      "metadata": {
        "colab": {
          "base_uri": "https://localhost:8080/"
        },
        "id": "xFzWO3W5Ulxj",
        "outputId": "1af678af-7232-494e-c1bd-3d2cdbbcfb08"
      },
      "source": [
        "print(9**3)"
      ],
      "execution_count": null,
      "outputs": [
        {
          "output_type": "stream",
          "text": [
            "729\n"
          ],
          "name": "stdout"
        }
      ]
    },
    {
      "cell_type": "markdown",
      "metadata": {
        "id": "aP7N4RFCUzpK"
      },
      "source": [
        "**Step 2:** Solve the exponentiation expression next. It has the next highest precedence."
      ]
    },
    {
      "cell_type": "code",
      "metadata": {
        "colab": {
          "base_uri": "https://localhost:8080/"
        },
        "id": "jpmJgrH-VEH8",
        "outputId": "230f2112-ccf6-40dc-90da-f5ae87709944"
      },
      "source": [
        "print(2**5)"
      ],
      "execution_count": null,
      "outputs": [
        {
          "output_type": "stream",
          "text": [
            "32\n"
          ],
          "name": "stdout"
        }
      ]
    },
    {
      "cell_type": "markdown",
      "metadata": {
        "id": "NLSyD0GNVM3z"
      },
      "source": [
        "**Step 3:** Then solve modulus operator."
      ]
    },
    {
      "cell_type": "code",
      "metadata": {
        "colab": {
          "base_uri": "https://localhost:8080/"
        },
        "id": "HT90-2zrXJYf",
        "outputId": "c2b719a4-d713-459c-88b4-4d1bf9216556"
      },
      "source": [
        "print(32%1)"
      ],
      "execution_count": null,
      "outputs": [
        {
          "output_type": "stream",
          "text": [
            "0\n"
          ],
          "name": "stdout"
        }
      ]
    },
    {
      "cell_type": "markdown",
      "metadata": {
        "id": "j2sALZP7XS_1"
      },
      "source": [
        "**Step 4:** Next addition gets executed and at last subtraction. So, the final answer is:"
      ]
    },
    {
      "cell_type": "code",
      "metadata": {
        "colab": {
          "base_uri": "https://localhost:8080/"
        },
        "id": "uXDccQFtXizo",
        "outputId": "81248e94-8410-42bc-ba46-550a7cd1dd44"
      },
      "source": [
        "print(4+729-0)"
      ],
      "execution_count": null,
      "outputs": [
        {
          "output_type": "stream",
          "text": [
            "733\n"
          ],
          "name": "stdout"
        }
      ]
    },
    {
      "cell_type": "markdown",
      "metadata": {
        "id": "pptE7I9zdiD6"
      },
      "source": [
        "# **String Operations**"
      ]
    },
    {
      "cell_type": "markdown",
      "metadata": {
        "id": "fnJDvlFgLqac"
      },
      "source": [
        "Strings are declared either within ''(single quotes) or within \" \"(double quotes) ."
      ]
    },
    {
      "cell_type": "code",
      "metadata": {
        "colab": {
          "base_uri": "https://localhost:8080/"
        },
        "id": "35BCdbbiL5wu",
        "outputId": "f4840ed0-6d06-400e-a2e5-a2a1c0cbabf6"
      },
      "source": [
        "c = 'Alice'\r\n",
        "d = \"Wonderland\"\r\n",
        "print(c,\"in\",d)"
      ],
      "execution_count": 1,
      "outputs": [
        {
          "output_type": "stream",
          "text": [
            "Alice in Wonderland\n"
          ],
          "name": "stdout"
        }
      ]
    },
    {
      "cell_type": "markdown",
      "metadata": {
        "id": "VunnwPMgND04"
      },
      "source": [
        "**len()** function is used to find the length(number of elements) of a string."
      ]
    },
    {
      "cell_type": "code",
      "metadata": {
        "colab": {
          "base_uri": "https://localhost:8080/"
        },
        "id": "3pskfZtkNSkM",
        "outputId": "525522bf-7320-408b-c177-9b3520512b10"
      },
      "source": [
        "Name = 'Python Basics'\r\n",
        "print(\"Length of \",Name,\" = \",len(Name))\r\n",
        "name = \"PythonBasics\"\r\n",
        "print(\"Length of \",name,\" = \",len(name))"
      ],
      "execution_count": 3,
      "outputs": [
        {
          "output_type": "stream",
          "text": [
            "Length of  Python Basics  =  13\n",
            "Length of  PythonBasics  =  12\n"
          ],
          "name": "stdout"
        }
      ]
    },
    {
      "cell_type": "markdown",
      "metadata": {
        "id": "EZhrfn0uPByd"
      },
      "source": [
        "Elements in a string are stored at index. The first element is at index 0. We can access elements in reverse order also, called reverse indexing, where the last element is at -1."
      ]
    },
    {
      "cell_type": "code",
      "metadata": {
        "colab": {
          "base_uri": "https://localhost:8080/"
        },
        "id": "FhgSxD2GPxIG",
        "outputId": "0258fa05-b45e-42a5-fd2a-71be3b2596d7"
      },
      "source": [
        "print(\"First element of variable Name = \",Name[0])\r\n",
        "print(\"5th element of variable Name = \",Name[4])\r\n",
        "print(\"Last element of variable Name = \",Name[-1])\r\n",
        "print(\"Second last element of variable Name = \",Name[-2])"
      ],
      "execution_count": 5,
      "outputs": [
        {
          "output_type": "stream",
          "text": [
            "First element of variable Name =  P\n",
            "5th element of variable Name =  o\n",
            "Last element of variable Name =  s\n",
            "Second last element of variable Name =  c\n"
          ],
          "name": "stdout"
        }
      ]
    },
    {
      "cell_type": "markdown",
      "metadata": {
        "id": "9RF2EJCmO1G5"
      },
      "source": [
        "We cannot change a character of a string to another character because the string is immutable. Inorder to change the character, change the string as a whole.\r\n",
        "\r\n",
        "             For example, name[2] = 'e' is invalid\r\n",
        "It throws error when executed.\r\n",
        "\r\n",
        "\r\n",
        "\r\n",
        "\r\n"
      ]
    },
    {
      "cell_type": "code",
      "metadata": {
        "colab": {
          "base_uri": "https://localhost:8080/"
        },
        "id": "NgBY_uLRPxuZ",
        "outputId": "c6086d5c-510e-44a4-c9f5-5d08f14135f5"
      },
      "source": [
        "String = 'Run'\r\n",
        "print(String)\r\n",
        "#Change the character 'u' to 'a'\r\n",
        "String = 'Ran'\r\n",
        "print(\"Changed String is\",String)"
      ],
      "execution_count": 4,
      "outputs": [
        {
          "output_type": "stream",
          "text": [
            "Run\n",
            "Changed String is Ran\n"
          ],
          "name": "stdout"
        }
      ]
    },
    {
      "cell_type": "markdown",
      "metadata": {
        "id": "0USd8Ay1RBDN"
      },
      "source": [
        "**String Concatenation:** Combining strings together."
      ]
    },
    {
      "cell_type": "code",
      "metadata": {
        "colab": {
          "base_uri": "https://localhost:8080/"
        },
        "id": "joNluzkoRL74",
        "outputId": "f07f2302-eb09-42ab-c8a7-c672a62c145c"
      },
      "source": [
        "fName = 'Hello'\r\n",
        "lName = 'World!'\r\n",
        "Name = fName + \" \" + lName\r\n",
        "print(Name)"
      ],
      "execution_count": 5,
      "outputs": [
        {
          "output_type": "stream",
          "text": [
            "Hello World!\n"
          ],
          "name": "stdout"
        }
      ]
    },
    {
      "cell_type": "code",
      "metadata": {
        "colab": {
          "base_uri": "https://localhost:8080/"
        },
        "id": "Li_CqSM4SF_2",
        "outputId": "c83f2b05-d6df-4930-b8cd-76f89df4fb94"
      },
      "source": [
        "#Joining a string value with a numerical value.\r\n",
        "num = 2\r\n",
        "print(\"Hello \" + str(num) + \" World\")"
      ],
      "execution_count": 8,
      "outputs": [
        {
          "output_type": "stream",
          "text": [
            "Hello 2 World\n"
          ],
          "name": "stdout"
        }
      ]
    },
    {
      "cell_type": "markdown",
      "metadata": {
        "id": "9Cc0gjyJSyOf"
      },
      "source": [
        "**String Slicing** : Extracting a set of characters from a string."
      ]
    },
    {
      "cell_type": "code",
      "metadata": {
        "colab": {
          "base_uri": "https://localhost:8080/"
        },
        "id": "0lpRWTnlaMgn",
        "outputId": "9a3ba4ba-c816-409e-c0dd-eb511a19f107"
      },
      "source": [
        "s1 = 'Real eyes realize real lies.'\r\n",
        "sliced_s1 = s1[0:9]\r\n",
        "print(sliced_s1)\r\n",
        "sliced_s2 = s1[5:9]\r\n",
        "print(sliced_s2)"
      ],
      "execution_count": 18,
      "outputs": [
        {
          "output_type": "stream",
          "text": [
            "Real eyes\n",
            "eyes\n"
          ],
          "name": "stdout"
        }
      ]
    },
    {
      "cell_type": "code",
      "metadata": {
        "colab": {
          "base_uri": "https://localhost:8080/"
        },
        "id": "P7ZDTItWfjzw",
        "outputId": "902ba269-06d0-4405-e43b-2604ef7241d4"
      },
      "source": [
        "word = 'I love Python Programming'\r\n",
        "print(word[7:13])\r\n",
        "#P will have an index -18 (Reverse indexing)\r\n",
        "print(word[-18:-12])"
      ],
      "execution_count": 21,
      "outputs": [
        {
          "output_type": "stream",
          "text": [
            "Python\n",
            "Python\n"
          ],
          "name": "stdout"
        }
      ]
    },
    {
      "cell_type": "code",
      "metadata": {
        "colab": {
          "base_uri": "https://localhost:8080/"
        },
        "id": "8z5rwFmicg0B",
        "outputId": "693c8951-f1c8-4a09-9513-3f0815a2ce36"
      },
      "source": [
        "s2 = 'Even though you are fed up, you gotta keep your head up'\r\n",
        "fs = s2[ :27]\r\n",
        "print(fs)\r\n",
        "ls = s2[27: ]\r\n",
        "print(ls)"
      ],
      "execution_count": 13,
      "outputs": [
        {
          "output_type": "stream",
          "text": [
            "Even though you are fed up,\n",
            " you gotta keep your head up\n"
          ],
          "name": "stdout"
        }
      ]
    },
    {
      "cell_type": "markdown",
      "metadata": {
        "id": "Z-jlkD-md2Dg"
      },
      "source": [
        "**Membership:** Check whether a set of characters is a part of a given string."
      ]
    },
    {
      "cell_type": "code",
      "metadata": {
        "colab": {
          "base_uri": "https://localhost:8080/"
        },
        "id": "cmApajqmeHPZ",
        "outputId": "643c99ac-6a5e-42a1-c3a4-7e5b43178417"
      },
      "source": [
        "print('fed'in s2)\r\n",
        "print('head' not in s2)"
      ],
      "execution_count": 14,
      "outputs": [
        {
          "output_type": "stream",
          "text": [
            "True\n",
            "False\n"
          ],
          "name": "stdout"
        }
      ]
    },
    {
      "cell_type": "markdown",
      "metadata": {
        "id": "Jxu5xfZseXnc"
      },
      "source": [
        "**Repetition:** A string can be repeated any number of times using '*'."
      ]
    },
    {
      "cell_type": "code",
      "metadata": {
        "colab": {
          "base_uri": "https://localhost:8080/"
        },
        "id": "7sbGRCWOejqS",
        "outputId": "42b3dee3-a0cc-4238-e31c-2b0520f3a412"
      },
      "source": [
        "hello = 'Ha!'\r\n",
        "print(hello*8)"
      ],
      "execution_count": 17,
      "outputs": [
        {
          "output_type": "stream",
          "text": [
            "Ha!Ha!Ha!Ha!Ha!Ha!Ha!Ha!\n"
          ],
          "name": "stdout"
        }
      ]
    },
    {
      "cell_type": "code",
      "metadata": {
        "colab": {
          "base_uri": "https://localhost:8080/",
          "height": 35
        },
        "id": "VGQtho7kgYgz",
        "outputId": "b8e30057-bba3-4ea3-df5f-f83c920d7176"
      },
      "source": [
        "x = 'len'\r\n",
        "x[len(x*2)-5]"
      ],
      "execution_count": 22,
      "outputs": [
        {
          "output_type": "execute_result",
          "data": {
            "application/vnd.google.colaboratory.intrinsic+json": {
              "type": "string"
            },
            "text/plain": [
              "'e'"
            ]
          },
          "metadata": {
            "tags": []
          },
          "execution_count": 22
        }
      ]
    },
    {
      "cell_type": "markdown",
      "metadata": {
        "id": "E0W8537te-sp"
      },
      "source": [
        "# **String Methods**"
      ]
    },
    {
      "cell_type": "markdown",
      "metadata": {
        "id": "CA_upGQBp-md"
      },
      "source": [
        "**upper():** Change lower case to upper case."
      ]
    },
    {
      "cell_type": "code",
      "metadata": {
        "colab": {
          "base_uri": "https://localhost:8080/"
        },
        "id": "M5pMfDNrp0kX",
        "outputId": "d2c34411-e46e-4c08-e82a-f49c28ee4562"
      },
      "source": [
        "s = \"hello, how are you?\"\r\n",
        "print(s.upper())"
      ],
      "execution_count": 23,
      "outputs": [
        {
          "output_type": "stream",
          "text": [
            "HELLO, HOW ARE YOU?\n"
          ],
          "name": "stdout"
        }
      ]
    },
    {
      "cell_type": "markdown",
      "metadata": {
        "id": "7OlHmYKKqfN4"
      },
      "source": [
        "**lower():** Change upper case to lower case."
      ]
    },
    {
      "cell_type": "code",
      "metadata": {
        "colab": {
          "base_uri": "https://localhost:8080/"
        },
        "id": "1sgLMSMQqoo8",
        "outputId": "af03a526-4ca7-4fb4-afd2-c1b2046f45e8"
      },
      "source": [
        "s = \"HELLO, HOW ARE you?\"\r\n",
        "print(s.lower())"
      ],
      "execution_count": 27,
      "outputs": [
        {
          "output_type": "stream",
          "text": [
            "hello, how are you?\n"
          ],
          "name": "stdout"
        }
      ]
    },
    {
      "cell_type": "markdown",
      "metadata": {
        "id": "xYZfTp3zq7NO"
      },
      "source": [
        "**rstrip() and lstrip():** Remove white spaces and specific unwanted characters at the start and end of a string. rstrip() removes characters at last part of the string and lstrip() removes characters at start of the string."
      ]
    },
    {
      "cell_type": "code",
      "metadata": {
        "colab": {
          "base_uri": "https://localhost:8080/"
        },
        "id": "MiuvBbFVsX2d",
        "outputId": "10057694-13cb-4aa5-8ae5-9d064eb97e35"
      },
      "source": [
        "s = \"   God is great!   \"\r\n",
        "print(s)\r\n",
        "t = s.rstrip()\r\n",
        "print(t.rstrip('!'))\r\n",
        "print(s.lstrip())"
      ],
      "execution_count": 33,
      "outputs": [
        {
          "output_type": "stream",
          "text": [
            "   God is great!   \n",
            "   God is great\n",
            "God is great!   \n"
          ],
          "name": "stdout"
        }
      ]
    },
    {
      "cell_type": "markdown",
      "metadata": {
        "id": "B71VGoG4uMLU"
      },
      "source": [
        "**strip():** Trim white spaces at start and end."
      ]
    },
    {
      "cell_type": "code",
      "metadata": {
        "colab": {
          "base_uri": "https://localhost:8080/"
        },
        "id": "O51tWl8ZuSTV",
        "outputId": "18b6599d-f62a-4396-ab5b-56222134448e"
      },
      "source": [
        "fav = \"   You should have an Extra ear to hear the unheard, an Extra eye to see the unseen and an Extra heart to feel the unfelt     \"\r\n",
        "print(fav)\r\n",
        "print(fav.strip())"
      ],
      "execution_count": 36,
      "outputs": [
        {
          "output_type": "stream",
          "text": [
            "   You should have an Extra ear to hear the unheard, an Extra eye to see the unseen and an Extra heart to feel the unfelt     \n",
            "You should have an Extra ear to hear the unheard, an Extra eye to see the unseen and an Extra heart to feel the unfelt\n"
          ],
          "name": "stdout"
        }
      ]
    },
    {
      "cell_type": "code",
      "metadata": {
        "colab": {
          "base_uri": "https://localhost:8080/"
        },
        "id": "q3aDdJ7dvCrR",
        "outputId": "a5669536-c600-4545-c5fa-a8100ede99a3"
      },
      "source": [
        "mot = \"*****World is Beautiful/////////\"\r\n",
        "print(mot.rstrip('/').lstrip('*'))"
      ],
      "execution_count": 37,
      "outputs": [
        {
          "output_type": "stream",
          "text": [
            "World is Beautiful\n"
          ],
          "name": "stdout"
        }
      ]
    },
    {
      "cell_type": "markdown",
      "metadata": {
        "id": "xFXlRm_ovb-A"
      },
      "source": [
        "**count():** To count the number of a specific character in the string."
      ]
    },
    {
      "cell_type": "code",
      "metadata": {
        "colab": {
          "base_uri": "https://localhost:8080/"
        },
        "id": "Plr5TIiFvq9a",
        "outputId": "3b39cbe3-a57f-43b4-e82e-fb7861d890f1"
      },
      "source": [
        "print(fav.strip().count('a'))\r\n",
        "#count 'a' from a specific index position\r\n",
        "print(fav.strip().count('a',15))"
      ],
      "execution_count": 42,
      "outputs": [
        {
          "output_type": "stream",
          "text": [
            "12\n",
            "11\n"
          ],
          "name": "stdout"
        }
      ]
    },
    {
      "cell_type": "markdown",
      "metadata": {
        "id": "xgazpU94wlh4"
      },
      "source": [
        "Convert an integer value to string without type cast."
      ]
    },
    {
      "cell_type": "code",
      "metadata": {
        "colab": {
          "base_uri": "https://localhost:8080/"
        },
        "id": "BXtqPbtUwjzx",
        "outputId": "b8eefec2-5090-4ab0-e3bc-b6c25e9f078a"
      },
      "source": [
        "num = 10\r\n",
        "print(\"I have {0} chocolates with me.\".format(num))"
      ],
      "execution_count": 43,
      "outputs": [
        {
          "output_type": "stream",
          "text": [
            "I have 10 chocolates with me.\n"
          ],
          "name": "stdout"
        }
      ]
    },
    {
      "cell_type": "markdown",
      "metadata": {
        "id": "pxFMkScPxfwZ"
      },
      "source": [
        "Concatenate two or more strings."
      ]
    },
    {
      "cell_type": "code",
      "metadata": {
        "colab": {
          "base_uri": "https://localhost:8080/"
        },
        "id": "A1AfyMNtxkAZ",
        "outputId": "37c64e93-719a-461c-b952-790f990982ee"
      },
      "source": [
        "s1 = 'Chocolates'\r\n",
        "s2 = 'Laddoos'\r\n",
        "s3 = 'Halwa'\r\n",
        "s4 = 'Payasam'\r\n",
        "print(\"{0}, {1}, {2} and {3}\".format(s1,s2,s3,s4))"
      ],
      "execution_count": 45,
      "outputs": [
        {
          "output_type": "stream",
          "text": [
            "Chocolates, Laddoos, Halwa and Payasam\n"
          ],
          "name": "stdout"
        }
      ]
    },
    {
      "cell_type": "code",
      "metadata": {
        "colab": {
          "base_uri": "https://localhost:8080/"
        },
        "id": "Qriuq0XgyHYF",
        "outputId": "5db65873-e2b6-44ba-f30d-4d1edaceeffb"
      },
      "source": [
        "# To get help on strings in python\r\n",
        "help(str)"
      ],
      "execution_count": 47,
      "outputs": [
        {
          "output_type": "stream",
          "text": [
            "Help on class str in module builtins:\n",
            "\n",
            "class str(object)\n",
            " |  str(object='') -> str\n",
            " |  str(bytes_or_buffer[, encoding[, errors]]) -> str\n",
            " |  \n",
            " |  Create a new string object from the given object. If encoding or\n",
            " |  errors is specified, then the object must expose a data buffer\n",
            " |  that will be decoded using the given encoding and error handler.\n",
            " |  Otherwise, returns the result of object.__str__() (if defined)\n",
            " |  or repr(object).\n",
            " |  encoding defaults to sys.getdefaultencoding().\n",
            " |  errors defaults to 'strict'.\n",
            " |  \n",
            " |  Methods defined here:\n",
            " |  \n",
            " |  __add__(self, value, /)\n",
            " |      Return self+value.\n",
            " |  \n",
            " |  __contains__(self, key, /)\n",
            " |      Return key in self.\n",
            " |  \n",
            " |  __eq__(self, value, /)\n",
            " |      Return self==value.\n",
            " |  \n",
            " |  __format__(...)\n",
            " |      S.__format__(format_spec) -> str\n",
            " |      \n",
            " |      Return a formatted version of S as described by format_spec.\n",
            " |  \n",
            " |  __ge__(self, value, /)\n",
            " |      Return self>=value.\n",
            " |  \n",
            " |  __getattribute__(self, name, /)\n",
            " |      Return getattr(self, name).\n",
            " |  \n",
            " |  __getitem__(self, key, /)\n",
            " |      Return self[key].\n",
            " |  \n",
            " |  __getnewargs__(...)\n",
            " |  \n",
            " |  __gt__(self, value, /)\n",
            " |      Return self>value.\n",
            " |  \n",
            " |  __hash__(self, /)\n",
            " |      Return hash(self).\n",
            " |  \n",
            " |  __iter__(self, /)\n",
            " |      Implement iter(self).\n",
            " |  \n",
            " |  __le__(self, value, /)\n",
            " |      Return self<=value.\n",
            " |  \n",
            " |  __len__(self, /)\n",
            " |      Return len(self).\n",
            " |  \n",
            " |  __lt__(self, value, /)\n",
            " |      Return self<value.\n",
            " |  \n",
            " |  __mod__(self, value, /)\n",
            " |      Return self%value.\n",
            " |  \n",
            " |  __mul__(self, value, /)\n",
            " |      Return self*value.\n",
            " |  \n",
            " |  __ne__(self, value, /)\n",
            " |      Return self!=value.\n",
            " |  \n",
            " |  __new__(*args, **kwargs) from builtins.type\n",
            " |      Create and return a new object.  See help(type) for accurate signature.\n",
            " |  \n",
            " |  __repr__(self, /)\n",
            " |      Return repr(self).\n",
            " |  \n",
            " |  __rmod__(self, value, /)\n",
            " |      Return value%self.\n",
            " |  \n",
            " |  __rmul__(self, value, /)\n",
            " |      Return value*self.\n",
            " |  \n",
            " |  __sizeof__(...)\n",
            " |      S.__sizeof__() -> size of S in memory, in bytes\n",
            " |  \n",
            " |  __str__(self, /)\n",
            " |      Return str(self).\n",
            " |  \n",
            " |  capitalize(...)\n",
            " |      S.capitalize() -> str\n",
            " |      \n",
            " |      Return a capitalized version of S, i.e. make the first character\n",
            " |      have upper case and the rest lower case.\n",
            " |  \n",
            " |  casefold(...)\n",
            " |      S.casefold() -> str\n",
            " |      \n",
            " |      Return a version of S suitable for caseless comparisons.\n",
            " |  \n",
            " |  center(...)\n",
            " |      S.center(width[, fillchar]) -> str\n",
            " |      \n",
            " |      Return S centered in a string of length width. Padding is\n",
            " |      done using the specified fill character (default is a space)\n",
            " |  \n",
            " |  count(...)\n",
            " |      S.count(sub[, start[, end]]) -> int\n",
            " |      \n",
            " |      Return the number of non-overlapping occurrences of substring sub in\n",
            " |      string S[start:end].  Optional arguments start and end are\n",
            " |      interpreted as in slice notation.\n",
            " |  \n",
            " |  encode(...)\n",
            " |      S.encode(encoding='utf-8', errors='strict') -> bytes\n",
            " |      \n",
            " |      Encode S using the codec registered for encoding. Default encoding\n",
            " |      is 'utf-8'. errors may be given to set a different error\n",
            " |      handling scheme. Default is 'strict' meaning that encoding errors raise\n",
            " |      a UnicodeEncodeError. Other possible values are 'ignore', 'replace' and\n",
            " |      'xmlcharrefreplace' as well as any other name registered with\n",
            " |      codecs.register_error that can handle UnicodeEncodeErrors.\n",
            " |  \n",
            " |  endswith(...)\n",
            " |      S.endswith(suffix[, start[, end]]) -> bool\n",
            " |      \n",
            " |      Return True if S ends with the specified suffix, False otherwise.\n",
            " |      With optional start, test S beginning at that position.\n",
            " |      With optional end, stop comparing S at that position.\n",
            " |      suffix can also be a tuple of strings to try.\n",
            " |  \n",
            " |  expandtabs(...)\n",
            " |      S.expandtabs(tabsize=8) -> str\n",
            " |      \n",
            " |      Return a copy of S where all tab characters are expanded using spaces.\n",
            " |      If tabsize is not given, a tab size of 8 characters is assumed.\n",
            " |  \n",
            " |  find(...)\n",
            " |      S.find(sub[, start[, end]]) -> int\n",
            " |      \n",
            " |      Return the lowest index in S where substring sub is found,\n",
            " |      such that sub is contained within S[start:end].  Optional\n",
            " |      arguments start and end are interpreted as in slice notation.\n",
            " |      \n",
            " |      Return -1 on failure.\n",
            " |  \n",
            " |  format(...)\n",
            " |      S.format(*args, **kwargs) -> str\n",
            " |      \n",
            " |      Return a formatted version of S, using substitutions from args and kwargs.\n",
            " |      The substitutions are identified by braces ('{' and '}').\n",
            " |  \n",
            " |  format_map(...)\n",
            " |      S.format_map(mapping) -> str\n",
            " |      \n",
            " |      Return a formatted version of S, using substitutions from mapping.\n",
            " |      The substitutions are identified by braces ('{' and '}').\n",
            " |  \n",
            " |  index(...)\n",
            " |      S.index(sub[, start[, end]]) -> int\n",
            " |      \n",
            " |      Return the lowest index in S where substring sub is found, \n",
            " |      such that sub is contained within S[start:end].  Optional\n",
            " |      arguments start and end are interpreted as in slice notation.\n",
            " |      \n",
            " |      Raises ValueError when the substring is not found.\n",
            " |  \n",
            " |  isalnum(...)\n",
            " |      S.isalnum() -> bool\n",
            " |      \n",
            " |      Return True if all characters in S are alphanumeric\n",
            " |      and there is at least one character in S, False otherwise.\n",
            " |  \n",
            " |  isalpha(...)\n",
            " |      S.isalpha() -> bool\n",
            " |      \n",
            " |      Return True if all characters in S are alphabetic\n",
            " |      and there is at least one character in S, False otherwise.\n",
            " |  \n",
            " |  isdecimal(...)\n",
            " |      S.isdecimal() -> bool\n",
            " |      \n",
            " |      Return True if there are only decimal characters in S,\n",
            " |      False otherwise.\n",
            " |  \n",
            " |  isdigit(...)\n",
            " |      S.isdigit() -> bool\n",
            " |      \n",
            " |      Return True if all characters in S are digits\n",
            " |      and there is at least one character in S, False otherwise.\n",
            " |  \n",
            " |  isidentifier(...)\n",
            " |      S.isidentifier() -> bool\n",
            " |      \n",
            " |      Return True if S is a valid identifier according\n",
            " |      to the language definition.\n",
            " |      \n",
            " |      Use keyword.iskeyword() to test for reserved identifiers\n",
            " |      such as \"def\" and \"class\".\n",
            " |  \n",
            " |  islower(...)\n",
            " |      S.islower() -> bool\n",
            " |      \n",
            " |      Return True if all cased characters in S are lowercase and there is\n",
            " |      at least one cased character in S, False otherwise.\n",
            " |  \n",
            " |  isnumeric(...)\n",
            " |      S.isnumeric() -> bool\n",
            " |      \n",
            " |      Return True if there are only numeric characters in S,\n",
            " |      False otherwise.\n",
            " |  \n",
            " |  isprintable(...)\n",
            " |      S.isprintable() -> bool\n",
            " |      \n",
            " |      Return True if all characters in S are considered\n",
            " |      printable in repr() or S is empty, False otherwise.\n",
            " |  \n",
            " |  isspace(...)\n",
            " |      S.isspace() -> bool\n",
            " |      \n",
            " |      Return True if all characters in S are whitespace\n",
            " |      and there is at least one character in S, False otherwise.\n",
            " |  \n",
            " |  istitle(...)\n",
            " |      S.istitle() -> bool\n",
            " |      \n",
            " |      Return True if S is a titlecased string and there is at least one\n",
            " |      character in S, i.e. upper- and titlecase characters may only\n",
            " |      follow uncased characters and lowercase characters only cased ones.\n",
            " |      Return False otherwise.\n",
            " |  \n",
            " |  isupper(...)\n",
            " |      S.isupper() -> bool\n",
            " |      \n",
            " |      Return True if all cased characters in S are uppercase and there is\n",
            " |      at least one cased character in S, False otherwise.\n",
            " |  \n",
            " |  join(...)\n",
            " |      S.join(iterable) -> str\n",
            " |      \n",
            " |      Return a string which is the concatenation of the strings in the\n",
            " |      iterable.  The separator between elements is S.\n",
            " |  \n",
            " |  ljust(...)\n",
            " |      S.ljust(width[, fillchar]) -> str\n",
            " |      \n",
            " |      Return S left-justified in a Unicode string of length width. Padding is\n",
            " |      done using the specified fill character (default is a space).\n",
            " |  \n",
            " |  lower(...)\n",
            " |      S.lower() -> str\n",
            " |      \n",
            " |      Return a copy of the string S converted to lowercase.\n",
            " |  \n",
            " |  lstrip(...)\n",
            " |      S.lstrip([chars]) -> str\n",
            " |      \n",
            " |      Return a copy of the string S with leading whitespace removed.\n",
            " |      If chars is given and not None, remove characters in chars instead.\n",
            " |  \n",
            " |  partition(...)\n",
            " |      S.partition(sep) -> (head, sep, tail)\n",
            " |      \n",
            " |      Search for the separator sep in S, and return the part before it,\n",
            " |      the separator itself, and the part after it.  If the separator is not\n",
            " |      found, return S and two empty strings.\n",
            " |  \n",
            " |  replace(...)\n",
            " |      S.replace(old, new[, count]) -> str\n",
            " |      \n",
            " |      Return a copy of S with all occurrences of substring\n",
            " |      old replaced by new.  If the optional argument count is\n",
            " |      given, only the first count occurrences are replaced.\n",
            " |  \n",
            " |  rfind(...)\n",
            " |      S.rfind(sub[, start[, end]]) -> int\n",
            " |      \n",
            " |      Return the highest index in S where substring sub is found,\n",
            " |      such that sub is contained within S[start:end].  Optional\n",
            " |      arguments start and end are interpreted as in slice notation.\n",
            " |      \n",
            " |      Return -1 on failure.\n",
            " |  \n",
            " |  rindex(...)\n",
            " |      S.rindex(sub[, start[, end]]) -> int\n",
            " |      \n",
            " |      Return the highest index in S where substring sub is found,\n",
            " |      such that sub is contained within S[start:end].  Optional\n",
            " |      arguments start and end are interpreted as in slice notation.\n",
            " |      \n",
            " |      Raises ValueError when the substring is not found.\n",
            " |  \n",
            " |  rjust(...)\n",
            " |      S.rjust(width[, fillchar]) -> str\n",
            " |      \n",
            " |      Return S right-justified in a string of length width. Padding is\n",
            " |      done using the specified fill character (default is a space).\n",
            " |  \n",
            " |  rpartition(...)\n",
            " |      S.rpartition(sep) -> (head, sep, tail)\n",
            " |      \n",
            " |      Search for the separator sep in S, starting at the end of S, and return\n",
            " |      the part before it, the separator itself, and the part after it.  If the\n",
            " |      separator is not found, return two empty strings and S.\n",
            " |  \n",
            " |  rsplit(...)\n",
            " |      S.rsplit(sep=None, maxsplit=-1) -> list of strings\n",
            " |      \n",
            " |      Return a list of the words in S, using sep as the\n",
            " |      delimiter string, starting at the end of the string and\n",
            " |      working to the front.  If maxsplit is given, at most maxsplit\n",
            " |      splits are done. If sep is not specified, any whitespace string\n",
            " |      is a separator.\n",
            " |  \n",
            " |  rstrip(...)\n",
            " |      S.rstrip([chars]) -> str\n",
            " |      \n",
            " |      Return a copy of the string S with trailing whitespace removed.\n",
            " |      If chars is given and not None, remove characters in chars instead.\n",
            " |  \n",
            " |  split(...)\n",
            " |      S.split(sep=None, maxsplit=-1) -> list of strings\n",
            " |      \n",
            " |      Return a list of the words in S, using sep as the\n",
            " |      delimiter string.  If maxsplit is given, at most maxsplit\n",
            " |      splits are done. If sep is not specified or is None, any\n",
            " |      whitespace string is a separator and empty strings are\n",
            " |      removed from the result.\n",
            " |  \n",
            " |  splitlines(...)\n",
            " |      S.splitlines([keepends]) -> list of strings\n",
            " |      \n",
            " |      Return a list of the lines in S, breaking at line boundaries.\n",
            " |      Line breaks are not included in the resulting list unless keepends\n",
            " |      is given and true.\n",
            " |  \n",
            " |  startswith(...)\n",
            " |      S.startswith(prefix[, start[, end]]) -> bool\n",
            " |      \n",
            " |      Return True if S starts with the specified prefix, False otherwise.\n",
            " |      With optional start, test S beginning at that position.\n",
            " |      With optional end, stop comparing S at that position.\n",
            " |      prefix can also be a tuple of strings to try.\n",
            " |  \n",
            " |  strip(...)\n",
            " |      S.strip([chars]) -> str\n",
            " |      \n",
            " |      Return a copy of the string S with leading and trailing\n",
            " |      whitespace removed.\n",
            " |      If chars is given and not None, remove characters in chars instead.\n",
            " |  \n",
            " |  swapcase(...)\n",
            " |      S.swapcase() -> str\n",
            " |      \n",
            " |      Return a copy of S with uppercase characters converted to lowercase\n",
            " |      and vice versa.\n",
            " |  \n",
            " |  title(...)\n",
            " |      S.title() -> str\n",
            " |      \n",
            " |      Return a titlecased version of S, i.e. words start with title case\n",
            " |      characters, all remaining cased characters have lower case.\n",
            " |  \n",
            " |  translate(...)\n",
            " |      S.translate(table) -> str\n",
            " |      \n",
            " |      Return a copy of the string S in which each character has been mapped\n",
            " |      through the given translation table. The table must implement\n",
            " |      lookup/indexing via __getitem__, for instance a dictionary or list,\n",
            " |      mapping Unicode ordinals to Unicode ordinals, strings, or None. If\n",
            " |      this operation raises LookupError, the character is left untouched.\n",
            " |      Characters mapped to None are deleted.\n",
            " |  \n",
            " |  upper(...)\n",
            " |      S.upper() -> str\n",
            " |      \n",
            " |      Return a copy of S converted to uppercase.\n",
            " |  \n",
            " |  zfill(...)\n",
            " |      S.zfill(width) -> str\n",
            " |      \n",
            " |      Pad a numeric string S with zeros on the left, to fill a field\n",
            " |      of the specified width. The string S is never truncated.\n",
            " |  \n",
            " |  ----------------------------------------------------------------------\n",
            " |  Static methods defined here:\n",
            " |  \n",
            " |  maketrans(x, y=None, z=None, /)\n",
            " |      Return a translation table usable for str.translate().\n",
            " |      \n",
            " |      If there is only one argument, it must be a dictionary mapping Unicode\n",
            " |      ordinals (integers) or characters to Unicode ordinals, strings or None.\n",
            " |      Character keys will be then converted to ordinals.\n",
            " |      If there are two arguments, they must be strings of equal length, and\n",
            " |      in the resulting dictionary, each character in x will be mapped to the\n",
            " |      character at the same position in y. If there is a third argument, it\n",
            " |      must be a string, whose characters will be mapped to None in the result.\n",
            "\n"
          ],
          "name": "stdout"
        }
      ]
    }
  ]
}