{
  "nbformat": 4,
  "nbformat_minor": 0,
  "metadata": {
    "colab": {
      "provenance": [],
      "collapsed_sections": [],
      "authorship_tag": "ABX9TyMROfhNYBV8atn1ASwkCkzr",
      "include_colab_link": true
    },
    "kernelspec": {
      "name": "python3",
      "display_name": "Python 3"
    },
    "language_info": {
      "name": "python"
    }
  },
  "cells": [
    {
      "cell_type": "markdown",
      "metadata": {
        "id": "view-in-github",
        "colab_type": "text"
      },
      "source": [
        "<a href=\"https://colab.research.google.com/github/Arathikaruna/arathi/blob/master/Emporium_django.ipynb\" target=\"_parent\"><img src=\"https://colab.research.google.com/assets/colab-badge.svg\" alt=\"Open In Colab\"/></a>"
      ]
    },
    {
      "cell_type": "markdown",
      "source": [
        "Django is a platform to create websites. To install Django run the following command:\n",
        "\n",
        "> **pip install Django**\n",
        "\n",
        "To ensure that Django is installed ask for the version number:\n",
        "\n",
        "> **django-admin --version**\n",
        "\n"
      ],
      "metadata": {
        "id": "RQnQeHVgHF0f"
      }
    }
  ]
}